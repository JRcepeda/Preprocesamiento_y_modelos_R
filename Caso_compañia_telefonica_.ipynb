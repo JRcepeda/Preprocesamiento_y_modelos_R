{
  "nbformat": 4,
  "nbformat_minor": 0,
  "metadata": {
    "colab": {
      "provenance": [],
      "authorship_tag": "ABX9TyNm85uj5x4EGUcZGNDHRJe9"
    },
    "kernelspec": {
      "name": "ir",
      "display_name": "R"
    },
    "language_info": {
      "name": "R"
    }
  },
  "cells": [
    {
      "cell_type": "code",
      "execution_count": null,
      "metadata": {
        "colab": {
          "base_uri": "https://localhost:8080/"
        },
        "id": "kLdABqmG6_-h",
        "outputId": "a21c97bb-2395-4561-b49c-ad377864b8cb"
      },
      "outputs": [
        {
          "output_type": "stream",
          "name": "stderr",
          "text": [
            "Loading required package: tidverse\n",
            "\n",
            "Warning message in library(package, lib.loc = lib.loc, character.only = TRUE, logical.return = TRUE, :\n",
            "“there is no package called ‘tidverse’”\n",
            "Loading required package: car\n",
            "\n",
            "Warning message in library(package, lib.loc = lib.loc, character.only = TRUE, logical.return = TRUE, :\n",
            "“there is no package called ‘car’”\n",
            "Loading required package: dyplr\n",
            "\n",
            "Warning message in library(package, lib.loc = lib.loc, character.only = TRUE, logical.return = TRUE, :\n",
            "“there is no package called ‘dyplr’”\n"
          ]
        }
      ],
      "source": [
        "require(\"readr\")\n",
        "require(\"tidverse\")\n",
        "require(\"ggplot2\")\n",
        "require(\"car\")\n",
        "require(\"dyplr\")"
      ]
    },
    {
      "cell_type": "code",
      "source": [
        "data_wow<-read.csv(\"/content/data_wowAN2.csv\")"
      ],
      "metadata": {
        "id": "p5Ab_YdZ8_m5"
      },
      "execution_count": null,
      "outputs": []
    },
    {
      "cell_type": "code",
      "source": [
        "data_wow$canalpago<-as.factor(data_wow$canalpago)\n",
        "data_wow$servicio_adicional<-as.numeric(data_wow$servicio_adicional)\n",
        "data_wow$consumomes<-as.numeric(data_wow$consumomes)\n",
        "data_wow$gigas_cons<-as.numeric(data_wow$gigas_cons)"
      ],
      "metadata": {
        "id": "ELas-NNNNCuc"
      },
      "execution_count": null,
      "outputs": []
    },
    {
      "cell_type": "markdown",
      "source": [
        "# Se definió un alfa de 5% para el análisis de los datos de clientes Wow"
      ],
      "metadata": {
        "id": "NZ3WrDdcL_yC"
      }
    },
    {
      "cell_type": "markdown",
      "source": [
        "# •\t¿Es válido afirmar que los clientes que más consumen servicios adicionales usualmente pagan más por su facturación? ¿Qué podríamos recomendar estratégicamente basados en este resultado?"
      ],
      "metadata": {
        "id": "mDxbz_i1QByk"
      }
    },
    {
      "cell_type": "code",
      "source": [
        "# prueba de normalidad\n",
        "pshapiro_serv<-shapiro.test(data_wow$servicio_adicional)\n",
        "pshapiro_cons<-shapiro.test(data_wow$consumomes)\n",
        "pshapiro_serv\n",
        "pshapiro_cons"
      ],
      "metadata": {
        "id": "ceB4KCcVO4wK",
        "colab": {
          "base_uri": "https://localhost:8080/",
          "height": 191
        },
        "outputId": "c0722a41-e567-4310-ebcc-204991b834a6"
      },
      "execution_count": null,
      "outputs": [
        {
          "output_type": "display_data",
          "data": {
            "text/plain": [
              "\n",
              "\tShapiro-Wilk normality test\n",
              "\n",
              "data:  data_wow$servicio_adicional\n",
              "W = 0.78401, p-value < 2.2e-16\n"
            ]
          },
          "metadata": {}
        },
        {
          "output_type": "display_data",
          "data": {
            "text/plain": [
              "\n",
              "\tShapiro-Wilk normality test\n",
              "\n",
              "data:  data_wow$consumomes\n",
              "W = 0.24202, p-value < 2.2e-16\n"
            ]
          },
          "metadata": {}
        }
      ]
    },
    {
      "cell_type": "markdown",
      "source": [
        "Teniendo en cuenta los resultados de la prueba shapiro (para muestras menores a 5000) p-valor es menor que el alfa  tanto para la variable servicio adicional y consumomes no son normales. Con base a esto las variables se trataran como no paramétricas."
      ],
      "metadata": {
        "id": "EIy-AJ5fLDMr"
      }
    },
    {
      "cell_type": "code",
      "source": [
        "cor.test(data_wow$servicio_adicional,data_wow$consumomes,use=\"na.or.complete\", method=\"kendall\")"
      ],
      "metadata": {
        "colab": {
          "base_uri": "https://localhost:8080/",
          "height": 173
        },
        "id": "Lazmj-V6MaDW",
        "outputId": "ccb40751-ddc8-49a2-fe1a-693091779482"
      },
      "execution_count": null,
      "outputs": [
        {
          "output_type": "display_data",
          "data": {
            "text/plain": [
              "\n",
              "\tKendall's rank correlation tau\n",
              "\n",
              "data:  data_wow$servicio_adicional and data_wow$consumomes\n",
              "z = 1.9248, p-value = 0.05426\n",
              "alternative hypothesis: true tau is not equal to 0\n",
              "sample estimates:\n",
              "       tau \n",
              "0.03401229 \n"
            ]
          },
          "metadata": {}
        }
      ]
    },
    {
      "cell_type": "markdown",
      "source": [
        "De acuerdo con el resultado de la prueba Kendall para  variables no normales. A partir del resultado de esta P-valor es mayor a alfa por lo que se puede establecer que no hay relación entre las variables consumomes y servicio adicional."
      ],
      "metadata": {
        "id": "xAL3HTbMOuUX"
      }
    },
    {
      "cell_type": "markdown",
      "source": [
        "# •\t¿Será cierto que los usuarios con mayor número de servicios adicionales consumen más gigas de datos? Por favor plantee sus recomendaciones estratégicas"
      ],
      "metadata": {
        "id": "IXi8cWcJQgGV"
      }
    },
    {
      "cell_type": "code",
      "source": [
        "pshapiro_serv<-shapiro.test(data_wow$servicio_adicional)\n",
        "pshapiro_gigas<-shapiro.test(data_wow$gigas_cons)\n",
        "pshapiro_serv\n",
        "pshapiro_gigas\n"
      ],
      "metadata": {
        "colab": {
          "base_uri": "https://localhost:8080/",
          "height": 191
        },
        "id": "8fxr_6atQheJ",
        "outputId": "91185cdb-9f1d-440e-9e11-a4e145e8274b"
      },
      "execution_count": null,
      "outputs": [
        {
          "output_type": "display_data",
          "data": {
            "text/plain": [
              "\n",
              "\tShapiro-Wilk normality test\n",
              "\n",
              "data:  data_wow$servicio_adicional\n",
              "W = 0.78401, p-value < 2.2e-16\n"
            ]
          },
          "metadata": {}
        },
        {
          "output_type": "display_data",
          "data": {
            "text/plain": [
              "\n",
              "\tShapiro-Wilk normality test\n",
              "\n",
              "data:  data_wow$gigas_cons\n",
              "W = 0.99955, p-value = 0.9637\n"
            ]
          },
          "metadata": {}
        }
      ]
    },
    {
      "cell_type": "markdown",
      "source": [
        "De acuerdo a la prueba de normalidad de Shapiro Wilk aplicada, la variable servicio adicional es no paramétrica ya que su p-valor es menor a alfa y la variable gigas consumidas es parametrica (normal) ya que su p-valor es mayor al alfa del 5%."
      ],
      "metadata": {
        "id": "9R36SomaRw4_"
      }
    },
    {
      "cell_type": "code",
      "source": [
        "cor.test(data_wow$gigas_cons,data_wow$servicio_adicional,use=\"na.or.complete\",method = \"spearman\")"
      ],
      "metadata": {
        "colab": {
          "base_uri": "https://localhost:8080/",
          "height": 228
        },
        "id": "8xWzXIMmVcgR",
        "outputId": "eaa576a9-ae80-4aa4-99fb-95244ba9e471"
      },
      "execution_count": null,
      "outputs": [
        {
          "output_type": "stream",
          "name": "stderr",
          "text": [
            "Warning message in cor.test.default(data_wow$gigas_cons, data_wow$servicio_adicional, :\n",
            "“Cannot compute exact p-value with ties”\n"
          ]
        },
        {
          "output_type": "display_data",
          "data": {
            "text/plain": [
              "\n",
              "\tSpearman's rank correlation rho\n",
              "\n",
              "data:  data_wow$gigas_cons and data_wow$servicio_adicional\n",
              "S = 1043398746, p-value = 0.8911\n",
              "alternative hypothesis: true rho is not equal to 0\n",
              "sample estimates:\n",
              "        rho \n",
              "0.003189563 \n"
            ]
          },
          "metadata": {}
        }
      ]
    },
    {
      "cell_type": "markdown",
      "source": [
        "De acuerdo a los datos de a prueba de correlación spearman, p-valor es mayor a alfa por lo que no hay relacion entre las variables servicio adicional y gigas de planes de datos consumidas."
      ],
      "metadata": {
        "id": "Ci5y2N_8XOjV"
      }
    },
    {
      "cell_type": "markdown",
      "source": [
        "# •\t¿Es posible decir que las facturas con mayor consumo suelen tener valores altos debido a un mayor consumo de datos en gigas?. De ser así, es importante sugerir acciones y estrategias."
      ],
      "metadata": {
        "id": "Ga1aZ15EYIYD"
      }
    },
    {
      "cell_type": "code",
      "source": [
        "pshapiro_consumo<-shapiro.test(data_wow$consumomes)\n",
        "pshapiro_gigas<-shapiro.test(data_wow$gigas_cons)\n",
        "pshapiro_consumo\n",
        "pshapiro_gigas"
      ],
      "metadata": {
        "colab": {
          "base_uri": "https://localhost:8080/",
          "height": 191
        },
        "id": "vTo8RGWgYJcG",
        "outputId": "536e5de9-4fd9-4729-aab5-4f9b75517818"
      },
      "execution_count": null,
      "outputs": [
        {
          "output_type": "display_data",
          "data": {
            "text/plain": [
              "\n",
              "\tShapiro-Wilk normality test\n",
              "\n",
              "data:  data_wow$consumomes\n",
              "W = 0.24202, p-value < 2.2e-16\n"
            ]
          },
          "metadata": {}
        },
        {
          "output_type": "display_data",
          "data": {
            "text/plain": [
              "\n",
              "\tShapiro-Wilk normality test\n",
              "\n",
              "data:  data_wow$gigas_cons\n",
              "W = 0.99955, p-value = 0.9637\n"
            ]
          },
          "metadata": {}
        }
      ]
    },
    {
      "cell_type": "markdown",
      "source": [
        "De acuerdo a los datos la variable consumomes es no normal y gigas consumidas es normal.\n"
      ],
      "metadata": {
        "id": "5JZePKH0aFQx"
      }
    },
    {
      "cell_type": "code",
      "source": [
        "cor.test(data_wow$gigas_cons,data_wow$consumomes,use=\"na.or.complete\",method = \"spearman\")"
      ],
      "metadata": {
        "colab": {
          "base_uri": "https://localhost:8080/",
          "height": 228
        },
        "id": "MHayf4EYbAkf",
        "outputId": "50f0bcf5-792d-4297-a2c4-84b96cdec736"
      },
      "execution_count": null,
      "outputs": [
        {
          "output_type": "stream",
          "name": "stderr",
          "text": [
            "Warning message in cor.test.default(data_wow$gigas_cons, data_wow$consumomes, use = \"na.or.complete\", :\n",
            "“Cannot compute exact p-value with ties”\n"
          ]
        },
        {
          "output_type": "display_data",
          "data": {
            "text/plain": [
              "\n",
              "\tSpearman's rank correlation rho\n",
              "\n",
              "data:  data_wow$gigas_cons and data_wow$consumomes\n",
              "S = 1083655982, p-value = 0.1299\n",
              "alternative hypothesis: true rho is not equal to 0\n",
              "sample estimates:\n",
              "        rho \n",
              "-0.03527017 \n"
            ]
          },
          "metadata": {}
        }
      ]
    },
    {
      "cell_type": "markdown",
      "source": [
        "De acuerdo con los resultados de la prueba de correlación spearman (una variable paramétrica y la otra no paramétrica),no hay relacion entre las variables de consumomes y gigas consumidas."
      ],
      "metadata": {
        "id": "dHEOysqTcC74"
      }
    },
    {
      "cell_type": "markdown",
      "source": [
        "# •\t¿Será cierto que los clientes que pagan por medios virtuales (online) consumen más servicios adicionales? ¿Qué podríamos hacer para que los clientes cada vez compren más?"
      ],
      "metadata": {
        "id": "vLJRIeNUdMj-"
      }
    },
    {
      "cell_type": "code",
      "source": [
        "pshapiro_serv<-shapiro.test(data_wow$servicio_adicional)\n",
        "pshapiro_serv\n"
      ],
      "metadata": {
        "colab": {
          "base_uri": "https://localhost:8080/",
          "height": 104
        },
        "id": "MUVhtZ6Idat9",
        "outputId": "9cbe4e0a-1bd6-4862-cb9e-c2a1944428d6"
      },
      "execution_count": null,
      "outputs": [
        {
          "output_type": "display_data",
          "data": {
            "text/plain": [
              "\n",
              "\tShapiro-Wilk normality test\n",
              "\n",
              "data:  data_wow$servicio_adicional\n",
              "W = 0.78401, p-value < 2.2e-16\n"
            ]
          },
          "metadata": {}
        }
      ]
    },
    {
      "cell_type": "code",
      "source": [
        "online<-subset(data_wow,data_wow$canalpago==\"online\")\n",
        "presencial<-subset(data_wow,data_wow$canalpago==\"presencial\")"
      ],
      "metadata": {
        "id": "mHWy_hna2jwi"
      },
      "execution_count": null,
      "outputs": []
    },
    {
      "cell_type": "code",
      "source": [
        "wilcox.test(online$servicio_adicional,presencial$servicio_adicional)"
      ],
      "metadata": {
        "colab": {
          "base_uri": "https://localhost:8080/",
          "height": 121
        },
        "id": "wJES_5NPxOly",
        "outputId": "2b647a36-5a40-4be9-b0fd-e200a5142c55"
      },
      "execution_count": null,
      "outputs": [
        {
          "output_type": "display_data",
          "data": {
            "text/plain": [
              "\n",
              "\tWilcoxon rank sum test with continuity correction\n",
              "\n",
              "data:  online$servicio_adicional and presencial$servicio_adicional\n",
              "W = 401984, p-value = 0.05163\n",
              "alternative hypothesis: true location shift is not equal to 0\n"
            ]
          },
          "metadata": {}
        }
      ]
    },
    {
      "cell_type": "markdown",
      "source": [
        "De con la prueba wilcox, p-valor es mayor que alfa no se rechaza la hipostesis nula, por lo que no hay una relación entre la variable de pago por medios virtuales y el consumo de servicios adicionales."
      ],
      "metadata": {
        "id": "PR0FsirbmDpu"
      }
    },
    {
      "cell_type": "markdown",
      "source": [
        "# •\t¿Qué aspectos definen a los clientes que no recomiendan el servicio de WOW, pensando en hacer un plan de mejoramiento?"
      ],
      "metadata": {
        "id": "1zVMR1pAlTd-"
      }
    },
    {
      "cell_type": "code",
      "source": [
        "data_wow$Recomienda<-as.factor(data_wow$Recomienda)\n",
        "data_wow$tipoplan<-as.factor(data_wow$tipoplan)\n",
        "data_wow$canalpago<-as.factor(data_wow$canalpago)\n",
        "data_wow$consumomes<-as.numeric(data_wow$consumomes)\n",
        "data_wow$Estrato<-as.factor(data_wow$Estrato)\n",
        "data_wow$Sexo<-as.factor(data_wow$Sexo)\n",
        "data_wow$Edad<-as.factor(data_wow$Edad)\n",
        "data_wow$EstadoCivil<-as.factor(data_wow$EstadoCivil)\n",
        "data_wow$Educacion<-as.factor(data_wow$Educacion)\n",
        "data_wow$rango_antiguedad<-as.factor(data_wow$rango_antiguedad)\n",
        "data_wow$gigas_cons<-as.numeric(data_wow$gigas_cons)"
      ],
      "metadata": {
        "id": "Q2VDeeZcd3Nd"
      },
      "execution_count": null,
      "outputs": []
    },
    {
      "cell_type": "code",
      "source": [
        "t_recom_tiplan<-table(data_wow$Recomienda,data_wow$tipoplan)\n",
        "chisq.test(t_recom_tiplan)"
      ],
      "metadata": {
        "colab": {
          "base_uri": "https://localhost:8080/",
          "height": 139
        },
        "id": "T_QtazjVyRg8",
        "outputId": "0858f9dd-f5cd-4684-93fb-ac61194accab"
      },
      "execution_count": null,
      "outputs": [
        {
          "output_type": "stream",
          "name": "stderr",
          "text": [
            "Warning message in chisq.test(t_recom_tiplan):\n",
            "“Chi-squared approximation may be incorrect”\n"
          ]
        },
        {
          "output_type": "display_data",
          "data": {
            "text/plain": [
              "\n",
              "\tPearson's Chi-squared test\n",
              "\n",
              "data:  t_recom_tiplan\n",
              "X-squared = 4.2016, df = 8, p-value = 0.8385\n"
            ]
          },
          "metadata": {}
        }
      ]
    },
    {
      "cell_type": "markdown",
      "source": [
        "De acuerdo con la prueba Chi cuadrado, p-valor es mayor que alfa, por lo que no rechaza la hipótesis nula, es decir, no hay relación entre las variables Recomienda y tipoplan."
      ],
      "metadata": {
        "id": "XwiPXWkZFs1X"
      }
    },
    {
      "cell_type": "code",
      "source": [
        "t_recom_cnlpag<-table(data_wow$Recomienda,data_wow$canalpago)\n",
        "chisq.test(t_recom_cnlpag)"
      ],
      "metadata": {
        "colab": {
          "base_uri": "https://localhost:8080/",
          "height": 104
        },
        "id": "6X2YfcplFooj",
        "outputId": "abd71df1-2d5a-44c3-b551-86e0e1844d3c"
      },
      "execution_count": null,
      "outputs": [
        {
          "output_type": "display_data",
          "data": {
            "text/plain": [
              "\n",
              "\tPearson's Chi-squared test\n",
              "\n",
              "data:  t_recom_cnlpag\n",
              "X-squared = 0.40394, df = 2, p-value = 0.8171\n"
            ]
          },
          "metadata": {}
        }
      ]
    },
    {
      "cell_type": "markdown",
      "source": [
        "De acuerdo con la prueba Chi cuadrado, p-valor es mayor que alfa, por lo que no rechaza la hipótesis nula, es decir, no hay relación entre las variables Recomienda y canalpago."
      ],
      "metadata": {
        "id": "-PJ7oHrMGuhJ"
      }
    },
    {
      "cell_type": "code",
      "source": [
        "\n",
        "kruskal.test(data_wow$consumomes~(data_wow$Recomienda),data=data_wow)\n",
        "\n",
        ""
      ],
      "metadata": {
        "colab": {
          "base_uri": "https://localhost:8080/",
          "height": 104
        },
        "id": "P5DgOf84G68H",
        "outputId": "d4dca9ac-848f-41bf-f259-733dc62254d5"
      },
      "execution_count": null,
      "outputs": [
        {
          "output_type": "display_data",
          "data": {
            "text/plain": [
              "\n",
              "\tKruskal-Wallis rank sum test\n",
              "\n",
              "data:  data_wow$consumomes by data_wow$Recomienda\n",
              "Kruskal-Wallis chi-squared = 3.4656, df = 2, p-value = 0.1768\n"
            ]
          },
          "metadata": {}
        }
      ]
    },
    {
      "cell_type": "markdown",
      "source": [
        "De acuerdo con la prueba Chi cuadrado, p-valor es mayor que alfa, por lo que no rechaza la hipótesis nula, es decir, no hay relación entre las variables Recomienda y consumomes."
      ],
      "metadata": {
        "id": "AGhF9Rbn6CAO"
      }
    },
    {
      "cell_type": "code",
      "source": [
        "t_recom_estrat<-table(data_wow$Recomienda,data_wow$Estrato)\n",
        "chisq.test(t_recom_estrat)"
      ],
      "metadata": {
        "colab": {
          "base_uri": "https://localhost:8080/",
          "height": 104
        },
        "id": "wDpELb472tM5",
        "outputId": "6dbc781d-303c-4aef-ec6b-532b550405ac"
      },
      "execution_count": null,
      "outputs": [
        {
          "output_type": "display_data",
          "data": {
            "text/plain": [
              "\n",
              "\tPearson's Chi-squared test\n",
              "\n",
              "data:  t_recom_estrat\n",
              "X-squared = 39.209, df = 6, p-value = 6.512e-07\n"
            ]
          },
          "metadata": {}
        }
      ]
    },
    {
      "cell_type": "code",
      "source": [
        "t_recom_estrat<-table(data_wow$Recomienda,data_wow$Estrato)\n",
        "prop.table(t_recom_estrat,1)"
      ],
      "metadata": {
        "colab": {
          "base_uri": "https://localhost:8080/",
          "height": 104
        },
        "id": "916lSXvFshG8",
        "outputId": "986991ba-46af-46fe-f288-231502e849c1"
      },
      "execution_count": null,
      "outputs": [
        {
          "output_type": "display_data",
          "data": {
            "text/plain": [
              "               \n",
              "                         0        1-2        3-4        5-6\n",
              "  Neutro        0.06608696 0.55478261 0.36695652 0.01217391\n",
              "  No recomienda 0.09900990 0.57095710 0.30363036 0.02640264\n",
              "  Recomienda    0.10961737 0.43226474 0.42295760 0.03516029"
            ]
          },
          "metadata": {}
        }
      ]
    },
    {
      "cell_type": "markdown",
      "source": [
        "De acuerdo con la prueba Chi cuadrado, p-valor es menor que alfa, por lo que se rechaza la hipótesis nula, es decir, hay relación entre las variables Recomienda y Estrato.\n",
        "\n"
      ],
      "metadata": {
        "id": "KVz_cUYN_Z5V"
      }
    },
    {
      "cell_type": "code",
      "source": [
        "t_recom_sexo<-table(data_wow$Recomienda,data_wow$Sexo)\n",
        "chisq.test(t_recom_sexo)"
      ],
      "metadata": {
        "colab": {
          "base_uri": "https://localhost:8080/",
          "height": 104
        },
        "id": "tLrFv-Bo_WtZ",
        "outputId": "c2ba6dc0-8abe-49fd-9bef-cab68e2e8ece"
      },
      "execution_count": null,
      "outputs": [
        {
          "output_type": "display_data",
          "data": {
            "text/plain": [
              "\n",
              "\tPearson's Chi-squared test\n",
              "\n",
              "data:  t_recom_sexo\n",
              "X-squared = 12.614, df = 2, p-value = 0.001824\n"
            ]
          },
          "metadata": {}
        }
      ]
    },
    {
      "cell_type": "code",
      "source": [
        "t_recom_sexo<-table(data_wow$Recomienda,data_wow$Sexo)\n",
        "prop.table(t_recom_sexo,1)"
      ],
      "metadata": {
        "colab": {
          "base_uri": "https://localhost:8080/",
          "height": 104
        },
        "id": "Fxdd39fGtb8p",
        "outputId": "7165d29d-8cd8-4083-ae62-2de17abcfdbc"
      },
      "execution_count": null,
      "outputs": [
        {
          "output_type": "display_data",
          "data": {
            "text/plain": [
              "               \n",
              "                 Femenino Masculino\n",
              "  Neutro        0.4817391 0.5182609\n",
              "  No recomienda 0.6006601 0.3993399\n",
              "  Recomienda    0.4953464 0.5046536"
            ]
          },
          "metadata": {}
        }
      ]
    },
    {
      "cell_type": "markdown",
      "source": [
        "De acuerdo con la prueba Chi cuadrado, p-valor es menor que alfa, por lo que se rechaza la hipótesis nula, es decir, hay relación entre las variables Recomienda y Sexo."
      ],
      "metadata": {
        "id": "Ceab27OEXCaw"
      }
    },
    {
      "cell_type": "code",
      "source": [
        "t_recom_edad<-table(data_wow$Recomienda,data_wow$Edad)\n",
        "chisq.test(t_recom_edad)"
      ],
      "metadata": {
        "colab": {
          "base_uri": "https://localhost:8080/",
          "height": 104
        },
        "id": "RU74xTt3XeOz",
        "outputId": "f02832be-23a4-4f06-de9d-42c8a5948c94"
      },
      "execution_count": null,
      "outputs": [
        {
          "output_type": "display_data",
          "data": {
            "text/plain": [
              "\n",
              "\tPearson's Chi-squared test\n",
              "\n",
              "data:  t_recom_edad\n",
              "X-squared = 51.474, df = 4, p-value = 1.777e-10\n"
            ]
          },
          "metadata": {}
        }
      ]
    },
    {
      "cell_type": "code",
      "source": [
        "t_recom_edad<-table(data_wow$Recomienda,data_wow$Edad)\n",
        "prop.table(t_recom_edad,1)"
      ],
      "metadata": {
        "colab": {
          "base_uri": "https://localhost:8080/",
          "height": 104
        },
        "id": "PdEL3P_HuqFY",
        "outputId": "a5adfefd-75b2-4085-98fd-15eb5861b4ab"
      },
      "execution_count": null,
      "outputs": [
        {
          "output_type": "display_data",
          "data": {
            "text/plain": [
              "               \n",
              "                Entre  26 y 45 Mayor a 45 Menor a 25\n",
              "  Neutro            0.39304348 0.06086957 0.54608696\n",
              "  No recomienda     0.40264026 0.03300330 0.56435644\n",
              "  Recomienda        0.48914168 0.10858325 0.40227508"
            ]
          },
          "metadata": {}
        }
      ]
    },
    {
      "cell_type": "markdown",
      "source": [
        "De acuerdo con la prueba Chi cuadrado, p-valor es menor que alfa, por lo que se rechaza la hipótesis nula, es decir, hay relación entre las variables Recomienda y Edad.\n"
      ],
      "metadata": {
        "id": "U0KE89eCe-VH"
      }
    },
    {
      "cell_type": "code",
      "source": [
        "ec_sv<-subset(data_wow,data_wow$EstadoCivil!=\"Viudo‎/a\")\n",
        "ec_sv<-droplevels(ec_sv)#borra la columna que que queda en ceros\n",
        "ec_sv<-table(ec_sv$Recomienda,ec_sv$EstadoCivil)"
      ],
      "metadata": {
        "id": "twk66pdwxfxC"
      },
      "execution_count": null,
      "outputs": []
    },
    {
      "cell_type": "code",
      "source": [
        "\n",
        "chisq.test(ec_sv)\n",
        "prop.table(ec_sv,1)"
      ],
      "metadata": {
        "colab": {
          "base_uri": "https://localhost:8080/",
          "height": 191
        },
        "id": "kf2at_te0qYA",
        "outputId": "533543a8-9d98-4f8f-a45a-ad1890afefad"
      },
      "execution_count": null,
      "outputs": [
        {
          "output_type": "display_data",
          "data": {
            "text/plain": [
              "\n",
              "\tPearson's Chi-squared test\n",
              "\n",
              "data:  ec_sv\n",
              "X-squared = 38.735, df = 6, p-value = 8.066e-07\n"
            ]
          },
          "metadata": {}
        },
        {
          "output_type": "display_data",
          "data": {
            "text/plain": [
              "               \n",
              "                  Casado/a Divorciado/a Separado/a  Soltero/a\n",
              "  Neutro        0.39652174   0.02782609 0.03130435 0.54434783\n",
              "  No recomienda 0.34653465   0.08250825 0.02970297 0.54125413\n",
              "  Recomienda    0.28423237   0.08402490 0.05186722 0.57987552"
            ]
          },
          "metadata": {}
        }
      ]
    },
    {
      "cell_type": "markdown",
      "source": [
        "De acuerdo con la prueba Chi cuadrado, p-valor es menor que alfa, por lo que se rechaza la hipótesis nula, es decir, no relación entre las variables Recomienda y Estado Civil.\n"
      ],
      "metadata": {
        "id": "JMiWrf-0f8iH"
      }
    },
    {
      "cell_type": "code",
      "source": [
        "t_recom_edu<-table(data_wow$Recomienda,data_wow$Educacion)\n",
        "chisq.test(t_recom_edu)"
      ],
      "metadata": {
        "colab": {
          "base_uri": "https://localhost:8080/",
          "height": 104
        },
        "id": "i3zxtSQhgB1i",
        "outputId": "4e31b309-ab71-44bb-b0c8-66259169292d"
      },
      "execution_count": null,
      "outputs": [
        {
          "output_type": "display_data",
          "data": {
            "text/plain": [
              "\n",
              "\tPearson's Chi-squared test\n",
              "\n",
              "data:  t_recom_edu\n",
              "X-squared = 9.2261, df = 8, p-value = 0.3236\n"
            ]
          },
          "metadata": {}
        }
      ]
    },
    {
      "cell_type": "markdown",
      "source": [
        "De acuerdo con la prueba Chi cuadrado, p-valor es mayor que alfa, por lo que no rechaza la hipótesis nula, es decir, no hay relación entre las variables Recomienda y Educación."
      ],
      "metadata": {
        "id": "y7wC1k6YgXAJ"
      }
    },
    {
      "cell_type": "code",
      "source": [
        "t_recom_rang<-table(data_wow$Recomienda,data_wow$rango_antiguedad)\n",
        "chisq.test(t_recom_rang)"
      ],
      "metadata": {
        "colab": {
          "base_uri": "https://localhost:8080/",
          "height": 104
        },
        "id": "QDJX2r4NgSqN",
        "outputId": "0e482887-3453-4d39-e5a6-57fd6ef2a3ff"
      },
      "execution_count": null,
      "outputs": [
        {
          "output_type": "display_data",
          "data": {
            "text/plain": [
              "\n",
              "\tPearson's Chi-squared test\n",
              "\n",
              "data:  t_recom_rang\n",
              "X-squared = 4.838, df = 6, p-value = 0.5647\n"
            ]
          },
          "metadata": {}
        }
      ]
    },
    {
      "cell_type": "markdown",
      "source": [
        "De acuerdo con la prueba Chi cuadrado, p-valor es mayor que alfa, por lo que no rechaza la hipótesis nula, es decir, no hay relación entre las variables Recomienda y rango_antiguedad."
      ],
      "metadata": {
        "id": "VU15hP6mhkxL"
      }
    },
    {
      "cell_type": "code",
      "source": [
        "kruskal.test(data_wow$servicio_adicional,data_wow$Recomienda,data=data_wow)"
      ],
      "metadata": {
        "colab": {
          "base_uri": "https://localhost:8080/",
          "height": 104
        },
        "id": "gOmzHgcqhivU",
        "outputId": "d96cbf0b-95db-42b0-84e1-6fe06f478df4"
      },
      "execution_count": null,
      "outputs": [
        {
          "output_type": "display_data",
          "data": {
            "text/plain": [
              "\n",
              "\tKruskal-Wallis rank sum test\n",
              "\n",
              "data:  data_wow$servicio_adicional and data_wow$Recomienda\n",
              "Kruskal-Wallis chi-squared = 1.2116, df = 2, p-value = 0.5456\n"
            ]
          },
          "metadata": {}
        }
      ]
    },
    {
      "cell_type": "markdown",
      "source": [
        "De acuerdo con la prueba Kruskal, p-valor es mayor que alfa, por lo que no rechaza la hipótesis nula, es decir, no hay relación entre las variables Recomienda y servicio_adicional."
      ],
      "metadata": {
        "id": "w-bq6eJTibWa"
      }
    },
    {
      "cell_type": "code",
      "source": [
        "pshapiro_gigas<-shapiro.test(data_wow$gigas_cons)\n",
        "pshapiro_gigas\n"
      ],
      "metadata": {
        "colab": {
          "base_uri": "https://localhost:8080/",
          "height": 104
        },
        "id": "-sj4xacJiNe3",
        "outputId": "d4ef81b0-4d9f-4711-ca08-8d82df6ce3d8"
      },
      "execution_count": null,
      "outputs": [
        {
          "output_type": "display_data",
          "data": {
            "text/plain": [
              "\n",
              "\tShapiro-Wilk normality test\n",
              "\n",
              "data:  data_wow$gigas_cons\n",
              "W = 0.99955, p-value = 0.9637\n"
            ]
          },
          "metadata": {}
        }
      ]
    },
    {
      "cell_type": "code",
      "source": [
        "anova<-aov(data_wow$gigas_cons~(data_wow$Recomienda))\n",
        "summary(anova)"
      ],
      "metadata": {
        "colab": {
          "base_uri": "https://localhost:8080/",
          "height": 69
        },
        "id": "UDQJXtrCn0-Z",
        "outputId": "ba22fd4d-eef5-426c-eeb4-535e973b01dc"
      },
      "execution_count": null,
      "outputs": [
        {
          "output_type": "display_data",
          "data": {
            "text/plain": [
              "                      Df Sum Sq Mean Sq F value Pr(>F)\n",
              "data_wow$Recomienda    2    0.2 0.09087   0.356    0.7\n",
              "Residuals           1842  470.1 0.25519               "
            ]
          },
          "metadata": {}
        }
      ]
    },
    {
      "cell_type": "markdown",
      "source": [
        "De acuerdo con la prueba anova Pr(>f) es mayor que alfa por lo que no se rechaza hipotesis nula, es decir, no hay relacion entre la variable Recomienda y gigas_cons."
      ],
      "metadata": {
        "id": "yq-KA8MtrDn6"
      }
    }
  ]
}