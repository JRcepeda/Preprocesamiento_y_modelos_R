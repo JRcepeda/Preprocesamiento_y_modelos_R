{
  "cells": [
    {
      "cell_type": "code",
      "execution_count": null,
      "metadata": {
        "id": "z36I0dvUtei2",
        "colab": {
          "base_uri": "https://localhost:8080/"
        },
        "outputId": "348d0778-bdd7-4833-dd59-d2ed1ded62f9"
      },
      "outputs": [
        {
          "output_type": "stream",
          "name": "stderr",
          "text": [
            "Loading required package: readr\n",
            "\n"
          ]
        }
      ],
      "source": [
        "require(readr)\n"
      ]
    },
    {
      "cell_type": "code",
      "execution_count": null,
      "metadata": {
        "colab": {
          "base_uri": "https://localhost:8080/"
        },
        "id": "JFidDExnM7GC",
        "outputId": "a807a6f7-2505-4b74-ee5f-dbda1011ba74"
      },
      "outputs": [
        {
          "output_type": "stream",
          "name": "stderr",
          "text": [
            "Installing package into ‘/usr/local/lib/R/site-library’\n",
            "(as ‘lib’ is unspecified)\n",
            "\n",
            "also installing the dependencies ‘numDeriv’, ‘SparseM’, ‘MatrixModels’, ‘minqa’, ‘nloptr’, ‘Rcpp’, ‘RcppEigen’, ‘carData’, ‘abind’, ‘pbkrtest’, ‘quantreg’, ‘lme4’\n",
            "\n",
            "\n"
          ]
        }
      ],
      "source": [
        "install.packages(\"car\")"
      ]
    },
    {
      "cell_type": "code",
      "execution_count": null,
      "metadata": {
        "colab": {
          "base_uri": "https://localhost:8080/"
        },
        "id": "tsZU_54kO5R2",
        "outputId": "b8bed4a0-fb98-43d3-d801-29951c8e2b65"
      },
      "outputs": [
        {
          "output_type": "stream",
          "name": "stderr",
          "text": [
            "Installing package into ‘/usr/local/lib/R/site-library’\n",
            "(as ‘lib’ is unspecified)\n",
            "\n",
            "also installing the dependency ‘zoo’\n",
            "\n",
            "\n"
          ]
        }
      ],
      "source": [
        "install.packages(\"lmtest\")"
      ]
    },
    {
      "cell_type": "code",
      "execution_count": null,
      "metadata": {
        "id": "lAdALAmHPEhU",
        "colab": {
          "base_uri": "https://localhost:8080/"
        },
        "outputId": "65dd8375-8443-4c6c-ad03-214f08d04302"
      },
      "outputs": [
        {
          "output_type": "stream",
          "name": "stderr",
          "text": [
            "Loading required package: zoo\n",
            "\n",
            "\n",
            "Attaching package: ‘zoo’\n",
            "\n",
            "\n",
            "The following objects are masked from ‘package:base’:\n",
            "\n",
            "    as.Date, as.Date.numeric\n",
            "\n",
            "\n",
            "Loading required package: carData\n",
            "\n"
          ]
        }
      ],
      "source": [
        "library(lmtest)\n",
        "library(car)"
      ]
    },
    {
      "cell_type": "code",
      "execution_count": null,
      "metadata": {
        "colab": {
          "base_uri": "https://localhost:8080/"
        },
        "id": "sBG6fWr3waxl",
        "outputId": "b96b7382-eefd-4c04-9783-b9cf98947635"
      },
      "outputs": [
        {
          "output_type": "stream",
          "name": "stderr",
          "text": [
            "Installing package into ‘/usr/local/lib/R/site-library’\n",
            "(as ‘lib’ is unspecified)\n",
            "\n",
            "also installing the dependencies ‘proxy’, ‘rootSolve’, ‘e1071’, ‘lmom’, ‘mvtnorm’, ‘expm’, ‘Exact’, ‘gld’, ‘BH’\n",
            "\n",
            "\n"
          ]
        }
      ],
      "source": [
        "install.packages(\"DescTools\")"
      ]
    },
    {
      "cell_type": "code",
      "execution_count": null,
      "metadata": {
        "id": "tUOz8xVxxLSC",
        "colab": {
          "base_uri": "https://localhost:8080/"
        },
        "outputId": "98daf10c-b001-4f88-f327-3b64a00e7073"
      },
      "outputs": [
        {
          "output_type": "stream",
          "name": "stderr",
          "text": [
            "\n",
            "Attaching package: ‘DescTools’\n",
            "\n",
            "\n",
            "The following object is masked from ‘package:car’:\n",
            "\n",
            "    Recode\n",
            "\n",
            "\n"
          ]
        }
      ],
      "source": [
        "library(DescTools)"
      ]
    },
    {
      "cell_type": "code",
      "execution_count": null,
      "metadata": {
        "id": "IXuZHsTxCK2v"
      },
      "outputs": [],
      "source": [
        "consumo=read.csv(\"/content/cc_consumo.csv\")"
      ]
    },
    {
      "cell_type": "markdown",
      "metadata": {
        "id": "HhoGUPBnE_tx"
      },
      "source": [
        "# Regresión logística consumo de cigarrillo"
      ]
    },
    {
      "cell_type": "code",
      "execution_count": null,
      "metadata": {
        "colab": {
          "base_uri": "https://localhost:8080/",
          "height": 286
        },
        "id": "jEOAM7LkCWjD",
        "outputId": "49e4625d-002d-4f45-f8b4-e49d329318d9"
      },
      "outputs": [
        {
          "output_type": "display_data",
          "data": {
            "text/html": [
              "<table class=\"dataframe\">\n",
              "<caption>A data.frame: 6 × 7</caption>\n",
              "<thead>\n",
              "\t<tr><th></th><th scope=col>id</th><th scope=col>educacion</th><th scope=col>sexo</th><th scope=col>edad</th><th scope=col>cervezas</th><th scope=col>hijos</th><th scope=col>cigarrillo</th></tr>\n",
              "\t<tr><th></th><th scope=col>&lt;int&gt;</th><th scope=col>&lt;int&gt;</th><th scope=col>&lt;chr&gt;</th><th scope=col>&lt;int&gt;</th><th scope=col>&lt;int&gt;</th><th scope=col>&lt;int&gt;</th><th scope=col>&lt;int&gt;</th></tr>\n",
              "</thead>\n",
              "<tbody>\n",
              "\t<tr><th scope=row>1</th><td>1003</td><td>16</td><td>Masculino</td><td>41</td><td>1</td><td>0</td><td>1</td></tr>\n",
              "\t<tr><th scope=row>2</th><td> 522</td><td> 9</td><td>Masculino</td><td>33</td><td>5</td><td>1</td><td>1</td></tr>\n",
              "\t<tr><th scope=row>3</th><td>1086</td><td>17</td><td>Masculino</td><td>51</td><td>3</td><td>4</td><td>0</td></tr>\n",
              "\t<tr><th scope=row>4</th><td> 659</td><td> 8</td><td>Masculino</td><td>46</td><td>6</td><td>2</td><td>0</td></tr>\n",
              "\t<tr><th scope=row>5</th><td> 771</td><td>12</td><td>Masculino</td><td>18</td><td>3</td><td>0</td><td>0</td></tr>\n",
              "\t<tr><th scope=row>6</th><td> 331</td><td>12</td><td>Femenino </td><td>57</td><td>4</td><td>3</td><td>1</td></tr>\n",
              "</tbody>\n",
              "</table>\n"
            ],
            "text/markdown": "\nA data.frame: 6 × 7\n\n| <!--/--> | id &lt;int&gt; | educacion &lt;int&gt; | sexo &lt;chr&gt; | edad &lt;int&gt; | cervezas &lt;int&gt; | hijos &lt;int&gt; | cigarrillo &lt;int&gt; |\n|---|---|---|---|---|---|---|---|\n| 1 | 1003 | 16 | Masculino | 41 | 1 | 0 | 1 |\n| 2 |  522 |  9 | Masculino | 33 | 5 | 1 | 1 |\n| 3 | 1086 | 17 | Masculino | 51 | 3 | 4 | 0 |\n| 4 |  659 |  8 | Masculino | 46 | 6 | 2 | 0 |\n| 5 |  771 | 12 | Masculino | 18 | 3 | 0 | 0 |\n| 6 |  331 | 12 | Femenino  | 57 | 4 | 3 | 1 |\n\n",
            "text/latex": "A data.frame: 6 × 7\n\\begin{tabular}{r|lllllll}\n  & id & educacion & sexo & edad & cervezas & hijos & cigarrillo\\\\\n  & <int> & <int> & <chr> & <int> & <int> & <int> & <int>\\\\\n\\hline\n\t1 & 1003 & 16 & Masculino & 41 & 1 & 0 & 1\\\\\n\t2 &  522 &  9 & Masculino & 33 & 5 & 1 & 1\\\\\n\t3 & 1086 & 17 & Masculino & 51 & 3 & 4 & 0\\\\\n\t4 &  659 &  8 & Masculino & 46 & 6 & 2 & 0\\\\\n\t5 &  771 & 12 & Masculino & 18 & 3 & 0 & 0\\\\\n\t6 &  331 & 12 & Femenino  & 57 & 4 & 3 & 1\\\\\n\\end{tabular}\n",
            "text/plain": [
              "  id   educacion sexo      edad cervezas hijos cigarrillo\n",
              "1 1003 16        Masculino 41   1        0     1         \n",
              "2  522  9        Masculino 33   5        1     1         \n",
              "3 1086 17        Masculino 51   3        4     0         \n",
              "4  659  8        Masculino 46   6        2     0         \n",
              "5  771 12        Masculino 18   3        0     0         \n",
              "6  331 12        Femenino  57   4        3     1         "
            ]
          },
          "metadata": {}
        }
      ],
      "source": [
        "consumo=consumo[,-9]\n",
        "consumo=consumo[,-1]\n",
        "head(consumo)"
      ]
    },
    {
      "cell_type": "code",
      "execution_count": null,
      "metadata": {
        "id": "lOlgq5SaCYLG"
      },
      "outputs": [],
      "source": [
        "consumo$sexo=as.factor(consumo$sexo)"
      ]
    },
    {
      "cell_type": "code",
      "execution_count": null,
      "metadata": {
        "colab": {
          "base_uri": "https://localhost:8080/",
          "height": 515
        },
        "id": "3fEkpJdKpuc4",
        "outputId": "83640b82-85bd-4f96-843a-032349412d7d"
      },
      "outputs": [
        {
          "output_type": "display_data",
          "data": {
            "text/plain": [
              "\n",
              "Call:\n",
              "glm(formula = cigarrillo ~ educacion + sexo + edad + cervezas + \n",
              "    hijos, family = binomial, data = consumo)\n",
              "\n",
              "Deviance Residuals: \n",
              "    Min       1Q   Median       3Q      Max  \n",
              "-2.1968  -0.9111  -0.6754   1.0891   2.0417  \n",
              "\n",
              "Coefficients:\n",
              "              Estimate Std. Error z value Pr(>|z|)    \n",
              "(Intercept)   -4.26143    0.63294  -6.733 1.66e-11 ***\n",
              "educacion      0.08941    0.03367   2.656  0.00791 ** \n",
              "sexoMasculino  0.58074    0.16710   3.475  0.00051 ***\n",
              "edad           0.06107    0.00728   8.390  < 2e-16 ***\n",
              "cervezas       0.03839    0.05046   0.761  0.44686    \n",
              "hijos         -0.07258    0.07343  -0.988  0.32294    \n",
              "---\n",
              "Signif. codes:  0 ‘***’ 0.001 ‘**’ 0.01 ‘*’ 0.05 ‘.’ 0.1 ‘ ’ 1\n",
              "\n",
              "(Dispersion parameter for binomial family taken to be 1)\n",
              "\n",
              "    Null deviance: 987.99  on 729  degrees of freedom\n",
              "Residual deviance: 879.71  on 724  degrees of freedom\n",
              "AIC: 891.71\n",
              "\n",
              "Number of Fisher Scoring iterations: 4\n"
            ]
          },
          "metadata": {}
        }
      ],
      "source": [
        "rlogistica=glm(cigarrillo~educacion+sexo+edad+cervezas+hijos,data=consumo,family=binomial)\n",
        "summary(rlogistica)"
      ]
    },
    {
      "cell_type": "markdown",
      "metadata": {
        "id": "51T4z5XzrUAn"
      },
      "source": [
        "De acuerdo a la prueba de significancia individual para la regresion logística (prueba Wald, Pr(>|z|) las variables cervezas e hijos tienen un p-valor cada una, mayor a alfa (5%) por lo que no se rechaza la hipotesis nula, es decir,  no aportan al modelo. Por esta razón se replantea el modelo abajo."
      ]
    },
    {
      "cell_type": "code",
      "execution_count": null,
      "metadata": {
        "colab": {
          "base_uri": "https://localhost:8080/",
          "height": 478
        },
        "id": "GE6VCV9UqfUQ",
        "outputId": "feecbbb7-61eb-4b40-e00c-9d906337a661"
      },
      "outputs": [
        {
          "output_type": "display_data",
          "data": {
            "text/plain": [
              "\n",
              "Call:\n",
              "glm(formula = cigarrillo ~ educacion + sexo + edad, family = binomial, \n",
              "    data = consumo)\n",
              "\n",
              "Deviance Residuals: \n",
              "    Min       1Q   Median       3Q      Max  \n",
              "-2.1616  -0.9061  -0.6557   1.0969   2.0546  \n",
              "\n",
              "Coefficients:\n",
              "               Estimate Std. Error z value Pr(>|z|)    \n",
              "(Intercept)   -4.148205   0.559507  -7.414 1.23e-13 ***\n",
              "educacion      0.089218   0.031181   2.861 0.004219 ** \n",
              "sexoMasculino  0.611335   0.163859   3.731 0.000191 ***\n",
              "edad           0.057681   0.006395   9.020  < 2e-16 ***\n",
              "---\n",
              "Signif. codes:  0 ‘***’ 0.001 ‘**’ 0.01 ‘*’ 0.05 ‘.’ 0.1 ‘ ’ 1\n",
              "\n",
              "(Dispersion parameter for binomial family taken to be 1)\n",
              "\n",
              "    Null deviance: 987.99  on 729  degrees of freedom\n",
              "Residual deviance: 881.25  on 726  degrees of freedom\n",
              "AIC: 889.25\n",
              "\n",
              "Number of Fisher Scoring iterations: 4\n"
            ]
          },
          "metadata": {}
        }
      ],
      "source": [
        "rlogistica2=glm(cigarrillo~educacion+sexo+edad,data=consumo,family=binomial)\n",
        "summary(rlogistica2)"
      ]
    },
    {
      "cell_type": "code",
      "execution_count": null,
      "metadata": {
        "colab": {
          "base_uri": "https://localhost:8080/",
          "height": 34
        },
        "id": "m0LkErEQhWOE",
        "outputId": "6f77f4d3-db53-4dc2-dbf2-245cfc7ad813"
      },
      "outputs": [
        {
          "output_type": "display_data",
          "data": {
            "text/html": [
              "<style>\n",
              ".dl-inline {width: auto; margin:0; padding: 0}\n",
              ".dl-inline>dt, .dl-inline>dd {float: none; width: auto; display: inline-block}\n",
              ".dl-inline>dt::after {content: \":\\0020\"; padding-right: .5ex}\n",
              ".dl-inline>dt:not(:first-of-type) {padding-left: .5ex}\n",
              "</style><dl class=dl-inline><dt>(Intercept)</dt><dd>0.0157927316193709</dd><dt>educacion</dt><dd>1.09331950987578</dd><dt>sexoMasculino</dt><dd>1.84289034554463</dd><dt>edad</dt><dd>1.05937692696579</dd></dl>\n"
            ],
            "text/markdown": "(Intercept)\n:   0.0157927316193709educacion\n:   1.09331950987578sexoMasculino\n:   1.84289034554463edad\n:   1.05937692696579\n\n",
            "text/latex": "\\begin{description*}\n\\item[(Intercept)] 0.0157927316193709\n\\item[educacion] 1.09331950987578\n\\item[sexoMasculino] 1.84289034554463\n\\item[edad] 1.05937692696579\n\\end{description*}\n",
            "text/plain": [
              "  (Intercept)     educacion sexoMasculino          edad \n",
              "   0.01579273    1.09331951    1.84289035    1.05937693 "
            ]
          },
          "metadata": {}
        }
      ],
      "source": [
        "odds=exp(coef(rlogistica2))\n",
        "odds"
      ]
    },
    {
      "cell_type": "markdown",
      "metadata": {
        "id": "FQ0h6GSvhjtu"
      },
      "source": [
        "De acuerdo a los datos anteriores por cada año de educación que tengan las personas aumenta la probabilidad de consumir cigarrillo  9.33%. Además dado el caso que sea hombre la probabilidad de consumir cigarrillo aumenta el 84.28%. Por último, cada por cada año de edad de la persona, la probabilidad de consumir cigarrillo aumenta 5.93%."
      ]
    },
    {
      "cell_type": "code",
      "execution_count": null,
      "metadata": {
        "colab": {
          "base_uri": "https://localhost:8080/",
          "height": 286
        },
        "id": "svMlj2YPEbOH",
        "outputId": "9cd0eafc-846d-4665-a242-9ac91e8c8122"
      },
      "outputs": [
        {
          "output_type": "display_data",
          "data": {
            "text/html": [
              "<table class=\"dataframe\">\n",
              "<caption>A data.frame: 6 × 8</caption>\n",
              "<thead>\n",
              "\t<tr><th></th><th scope=col>id</th><th scope=col>educacion</th><th scope=col>sexo</th><th scope=col>edad</th><th scope=col>cervezas</th><th scope=col>hijos</th><th scope=col>cigarrillo</th><th scope=col>Pr_C</th></tr>\n",
              "\t<tr><th></th><th scope=col>&lt;int&gt;</th><th scope=col>&lt;int&gt;</th><th scope=col>&lt;fct&gt;</th><th scope=col>&lt;int&gt;</th><th scope=col>&lt;int&gt;</th><th scope=col>&lt;int&gt;</th><th scope=col>&lt;int&gt;</th><th scope=col>&lt;dbl&gt;</th></tr>\n",
              "</thead>\n",
              "<tbody>\n",
              "\t<tr><th scope=row>1</th><td>1003</td><td>16</td><td>Masculino</td><td>41</td><td>1</td><td>0</td><td>1</td><td>0.5635405</td></tr>\n",
              "\t<tr><th scope=row>2</th><td> 522</td><td> 9</td><td>Masculino</td><td>33</td><td>5</td><td>1</td><td>1</td><td>0.3035535</td></tr>\n",
              "\t<tr><th scope=row>3</th><td>1086</td><td>17</td><td>Masculino</td><td>51</td><td>3</td><td>4</td><td>0</td><td>0.7153622</td></tr>\n",
              "\t<tr><th scope=row>4</th><td> 659</td><td> 8</td><td>Masculino</td><td>46</td><td>6</td><td>2</td><td>0</td><td>0.4576518</td></tr>\n",
              "\t<tr><th scope=row>5</th><td> 771</td><td>12</td><td>Masculino</td><td>18</td><td>3</td><td>0</td><td>0</td><td>0.1934118</td></tr>\n",
              "\t<tr><th scope=row>6</th><td> 331</td><td>12</td><td>Femenino </td><td>57</td><td>4</td><td>3</td><td>1</td><td>0.5523646</td></tr>\n",
              "</tbody>\n",
              "</table>\n"
            ],
            "text/markdown": "\nA data.frame: 6 × 8\n\n| <!--/--> | id &lt;int&gt; | educacion &lt;int&gt; | sexo &lt;fct&gt; | edad &lt;int&gt; | cervezas &lt;int&gt; | hijos &lt;int&gt; | cigarrillo &lt;int&gt; | Pr_C &lt;dbl&gt; |\n|---|---|---|---|---|---|---|---|---|\n| 1 | 1003 | 16 | Masculino | 41 | 1 | 0 | 1 | 0.5635405 |\n| 2 |  522 |  9 | Masculino | 33 | 5 | 1 | 1 | 0.3035535 |\n| 3 | 1086 | 17 | Masculino | 51 | 3 | 4 | 0 | 0.7153622 |\n| 4 |  659 |  8 | Masculino | 46 | 6 | 2 | 0 | 0.4576518 |\n| 5 |  771 | 12 | Masculino | 18 | 3 | 0 | 0 | 0.1934118 |\n| 6 |  331 | 12 | Femenino  | 57 | 4 | 3 | 1 | 0.5523646 |\n\n",
            "text/latex": "A data.frame: 6 × 8\n\\begin{tabular}{r|llllllll}\n  & id & educacion & sexo & edad & cervezas & hijos & cigarrillo & Pr\\_C\\\\\n  & <int> & <int> & <fct> & <int> & <int> & <int> & <int> & <dbl>\\\\\n\\hline\n\t1 & 1003 & 16 & Masculino & 41 & 1 & 0 & 1 & 0.5635405\\\\\n\t2 &  522 &  9 & Masculino & 33 & 5 & 1 & 1 & 0.3035535\\\\\n\t3 & 1086 & 17 & Masculino & 51 & 3 & 4 & 0 & 0.7153622\\\\\n\t4 &  659 &  8 & Masculino & 46 & 6 & 2 & 0 & 0.4576518\\\\\n\t5 &  771 & 12 & Masculino & 18 & 3 & 0 & 0 & 0.1934118\\\\\n\t6 &  331 & 12 & Femenino  & 57 & 4 & 3 & 1 & 0.5523646\\\\\n\\end{tabular}\n",
            "text/plain": [
              "  id   educacion sexo      edad cervezas hijos cigarrillo Pr_C     \n",
              "1 1003 16        Masculino 41   1        0     1          0.5635405\n",
              "2  522  9        Masculino 33   5        1     1          0.3035535\n",
              "3 1086 17        Masculino 51   3        4     0          0.7153622\n",
              "4  659  8        Masculino 46   6        2     0          0.4576518\n",
              "5  771 12        Masculino 18   3        0     0          0.1934118\n",
              "6  331 12        Femenino  57   4        3     1          0.5523646"
            ]
          },
          "metadata": {}
        }
      ],
      "source": [
        "consumo$Pr_C=predict(rlogistica2,type=\"response\")\n",
        "head(consumo)"
      ]
    },
    {
      "cell_type": "code",
      "execution_count": null,
      "metadata": {
        "colab": {
          "base_uri": "https://localhost:8080/",
          "height": 286
        },
        "id": "HtZCdoSUK3Sx",
        "outputId": "9156ca2c-17f4-4615-a9ce-bedb15afc4f4"
      },
      "outputs": [
        {
          "output_type": "display_data",
          "data": {
            "text/html": [
              "<table class=\"dataframe\">\n",
              "<caption>A data.frame: 6 × 9</caption>\n",
              "<thead>\n",
              "\t<tr><th></th><th scope=col>id</th><th scope=col>educacion</th><th scope=col>sexo</th><th scope=col>edad</th><th scope=col>cervezas</th><th scope=col>hijos</th><th scope=col>cigarrillo</th><th scope=col>Pr_C</th><th scope=col>pronostico</th></tr>\n",
              "\t<tr><th></th><th scope=col>&lt;int&gt;</th><th scope=col>&lt;int&gt;</th><th scope=col>&lt;fct&gt;</th><th scope=col>&lt;int&gt;</th><th scope=col>&lt;int&gt;</th><th scope=col>&lt;int&gt;</th><th scope=col>&lt;int&gt;</th><th scope=col>&lt;dbl&gt;</th><th scope=col>&lt;dbl&gt;</th></tr>\n",
              "</thead>\n",
              "<tbody>\n",
              "\t<tr><th scope=row>1</th><td>1003</td><td>16</td><td>Masculino</td><td>41</td><td>1</td><td>0</td><td>1</td><td>0.5635405</td><td>1</td></tr>\n",
              "\t<tr><th scope=row>2</th><td> 522</td><td> 9</td><td>Masculino</td><td>33</td><td>5</td><td>1</td><td>1</td><td>0.3035535</td><td>0</td></tr>\n",
              "\t<tr><th scope=row>3</th><td>1086</td><td>17</td><td>Masculino</td><td>51</td><td>3</td><td>4</td><td>0</td><td>0.7153622</td><td>1</td></tr>\n",
              "\t<tr><th scope=row>4</th><td> 659</td><td> 8</td><td>Masculino</td><td>46</td><td>6</td><td>2</td><td>0</td><td>0.4576518</td><td>0</td></tr>\n",
              "\t<tr><th scope=row>5</th><td> 771</td><td>12</td><td>Masculino</td><td>18</td><td>3</td><td>0</td><td>0</td><td>0.1934118</td><td>0</td></tr>\n",
              "\t<tr><th scope=row>6</th><td> 331</td><td>12</td><td>Femenino </td><td>57</td><td>4</td><td>3</td><td>1</td><td>0.5523646</td><td>1</td></tr>\n",
              "</tbody>\n",
              "</table>\n"
            ],
            "text/markdown": "\nA data.frame: 6 × 9\n\n| <!--/--> | id &lt;int&gt; | educacion &lt;int&gt; | sexo &lt;fct&gt; | edad &lt;int&gt; | cervezas &lt;int&gt; | hijos &lt;int&gt; | cigarrillo &lt;int&gt; | Pr_C &lt;dbl&gt; | pronostico &lt;dbl&gt; |\n|---|---|---|---|---|---|---|---|---|---|\n| 1 | 1003 | 16 | Masculino | 41 | 1 | 0 | 1 | 0.5635405 | 1 |\n| 2 |  522 |  9 | Masculino | 33 | 5 | 1 | 1 | 0.3035535 | 0 |\n| 3 | 1086 | 17 | Masculino | 51 | 3 | 4 | 0 | 0.7153622 | 1 |\n| 4 |  659 |  8 | Masculino | 46 | 6 | 2 | 0 | 0.4576518 | 0 |\n| 5 |  771 | 12 | Masculino | 18 | 3 | 0 | 0 | 0.1934118 | 0 |\n| 6 |  331 | 12 | Femenino  | 57 | 4 | 3 | 1 | 0.5523646 | 1 |\n\n",
            "text/latex": "A data.frame: 6 × 9\n\\begin{tabular}{r|lllllllll}\n  & id & educacion & sexo & edad & cervezas & hijos & cigarrillo & Pr\\_C & pronostico\\\\\n  & <int> & <int> & <fct> & <int> & <int> & <int> & <int> & <dbl> & <dbl>\\\\\n\\hline\n\t1 & 1003 & 16 & Masculino & 41 & 1 & 0 & 1 & 0.5635405 & 1\\\\\n\t2 &  522 &  9 & Masculino & 33 & 5 & 1 & 1 & 0.3035535 & 0\\\\\n\t3 & 1086 & 17 & Masculino & 51 & 3 & 4 & 0 & 0.7153622 & 1\\\\\n\t4 &  659 &  8 & Masculino & 46 & 6 & 2 & 0 & 0.4576518 & 0\\\\\n\t5 &  771 & 12 & Masculino & 18 & 3 & 0 & 0 & 0.1934118 & 0\\\\\n\t6 &  331 & 12 & Femenino  & 57 & 4 & 3 & 1 & 0.5523646 & 1\\\\\n\\end{tabular}\n",
            "text/plain": [
              "  id   educacion sexo      edad cervezas hijos cigarrillo Pr_C      pronostico\n",
              "1 1003 16        Masculino 41   1        0     1          0.5635405 1         \n",
              "2  522  9        Masculino 33   5        1     1          0.3035535 0         \n",
              "3 1086 17        Masculino 51   3        4     0          0.7153622 1         \n",
              "4  659  8        Masculino 46   6        2     0          0.4576518 0         \n",
              "5  771 12        Masculino 18   3        0     0          0.1934118 0         \n",
              "6  331 12        Femenino  57   4        3     1          0.5523646 1         "
            ]
          },
          "metadata": {}
        }
      ],
      "source": [
        "consumo$pronostico=as.numeric(consumo$Pr_C>0.5)\n",
        "head(consumo)"
      ]
    },
    {
      "cell_type": "code",
      "execution_count": null,
      "metadata": {
        "colab": {
          "base_uri": "https://localhost:8080/",
          "height": 91
        },
        "id": "kau2sJadPgXV",
        "outputId": "4d3a98cf-9f36-4744-c6b6-1b4e169c79ff"
      },
      "outputs": [
        {
          "output_type": "display_data",
          "data": {
            "text/plain": [
              "   \n",
              "            0         1\n",
              "  0 0.7131313 0.3319149\n",
              "  1 0.2868687 0.6680851"
            ]
          },
          "metadata": {}
        }
      ],
      "source": [
        "matriz_Confusion=table(consumo$cigarrillo,consumo$pronostico)\n",
        "num=matriz_Confusion[1,1]+matriz_Confusion[2,2]\n",
        "total=sum(matriz_Confusion)\n",
        "matriz_Confusion=prop.table(matriz_Confusion,2)\n",
        "matriz_Confusion\n",
        "\n"
      ]
    },
    {
      "cell_type": "code",
      "source": [
        "num/total"
      ],
      "metadata": {
        "colab": {
          "base_uri": "https://localhost:8080/",
          "height": 34
        },
        "id": "fBU6MeMibo4j",
        "outputId": "62ec7af7-f666-475f-ee52-02c97c9977d5"
      },
      "execution_count": null,
      "outputs": [
        {
          "output_type": "display_data",
          "data": {
            "text/html": [
              "0.698630136986301"
            ],
            "text/markdown": "0.698630136986301",
            "text/latex": "0.698630136986301",
            "text/plain": [
              "[1] 0.6986301"
            ]
          },
          "metadata": {}
        }
      ]
    },
    {
      "cell_type": "code",
      "source": [
        "1-(num/total)"
      ],
      "metadata": {
        "colab": {
          "base_uri": "https://localhost:8080/",
          "height": 34
        },
        "id": "NFp4siUyZC4p",
        "outputId": "a7dacde4-58a5-4d8e-e4a7-8608936272e2"
      },
      "execution_count": null,
      "outputs": [
        {
          "output_type": "display_data",
          "data": {
            "text/html": [
              "0.301369863013699"
            ],
            "text/markdown": "0.301369863013699",
            "text/latex": "0.301369863013699",
            "text/plain": [
              "[1] 0.3013699"
            ]
          },
          "metadata": {}
        }
      ]
    },
    {
      "cell_type": "markdown",
      "metadata": {
        "id": "0hNXieRfubYQ"
      },
      "source": [
        "Respecto a la bondad de ajuste, de acuerdo con los datos presentados por la matriz de confusión y que los valores son mayores al 50% cada, se puede afirmar que quienes efectivamente no fuman son el 71.31% y respecto a las personas que fuman es del 66.80%. Ahora bien calculando la tasa de acierto de la matriz de confusión, obtenemos que la tasa de acierto es del 69.86%"
      ]
    },
    {
      "cell_type": "code",
      "execution_count": null,
      "metadata": {
        "colab": {
          "base_uri": "https://localhost:8080/",
          "height": 52
        },
        "id": "FJrT9tO4QHyr",
        "outputId": "ee311bc2-cf86-4f15-eb24-403cfcad6654"
      },
      "outputs": [
        {
          "output_type": "display_data",
          "data": {
            "text/html": [
              "<strong>McFadden:</strong> 0.108046364738347"
            ],
            "text/markdown": "**McFadden:** 0.108046364738347",
            "text/latex": "\\textbf{McFadden:} 0.108046364738347",
            "text/plain": [
              " McFadden \n",
              "0.1080464 "
            ]
          },
          "metadata": {}
        },
        {
          "output_type": "display_data",
          "data": {
            "text/html": [
              "<strong>Nagelkerke:</strong> 0.183433798146843"
            ],
            "text/markdown": "**Nagelkerke:** 0.183433798146843",
            "text/latex": "\\textbf{Nagelkerke:} 0.183433798146843",
            "text/plain": [
              "Nagelkerke \n",
              " 0.1834338 "
            ]
          },
          "metadata": {}
        }
      ],
      "source": [
        "PseudoR2(rlogistica2,which = \"McFadden\")\n",
        "PseudoR2(rlogistica2,which = \"Nagelkerke\")"
      ]
    },
    {
      "cell_type": "code",
      "execution_count": null,
      "metadata": {
        "colab": {
          "base_uri": "https://localhost:8080/",
          "height": 223
        },
        "id": "oJHeo9XjyNM5",
        "outputId": "57ba8799-c8b1-4358-a5db-1736331c5f6a"
      },
      "outputs": [
        {
          "output_type": "display_data",
          "data": {
            "text/html": [
              "<table class=\"dataframe\">\n",
              "<caption>A anova: 4 × 5</caption>\n",
              "<thead>\n",
              "\t<tr><th></th><th scope=col>Df</th><th scope=col>Deviance</th><th scope=col>Resid. Df</th><th scope=col>Resid. Dev</th><th scope=col>Pr(&gt;Chi)</th></tr>\n",
              "\t<tr><th></th><th scope=col>&lt;int&gt;</th><th scope=col>&lt;dbl&gt;</th><th scope=col>&lt;int&gt;</th><th scope=col>&lt;dbl&gt;</th><th scope=col>&lt;dbl&gt;</th></tr>\n",
              "</thead>\n",
              "<tbody>\n",
              "\t<tr><th scope=row>NULL</th><td>NA</td><td>       NA</td><td>729</td><td>987.9946</td><td>          NA</td></tr>\n",
              "\t<tr><th scope=row>educacion</th><td> 1</td><td> 0.783045</td><td>728</td><td>987.2115</td><td>3.762115e-01</td></tr>\n",
              "\t<tr><th scope=row>sexo</th><td> 1</td><td> 9.961169</td><td>727</td><td>977.2504</td><td>1.598765e-03</td></tr>\n",
              "\t<tr><th scope=row>edad</th><td> 1</td><td>96.005010</td><td>726</td><td>881.2454</td><td>1.145931e-22</td></tr>\n",
              "</tbody>\n",
              "</table>\n"
            ],
            "text/markdown": "\nA anova: 4 × 5\n\n| <!--/--> | Df &lt;int&gt; | Deviance &lt;dbl&gt; | Resid. Df &lt;int&gt; | Resid. Dev &lt;dbl&gt; | Pr(&gt;Chi) &lt;dbl&gt; |\n|---|---|---|---|---|---|\n| NULL | NA |        NA | 729 | 987.9946 |           NA |\n| educacion |  1 |  0.783045 | 728 | 987.2115 | 3.762115e-01 |\n| sexo |  1 |  9.961169 | 727 | 977.2504 | 1.598765e-03 |\n| edad |  1 | 96.005010 | 726 | 881.2454 | 1.145931e-22 |\n\n",
            "text/latex": "A anova: 4 × 5\n\\begin{tabular}{r|lllll}\n  & Df & Deviance & Resid. Df & Resid. Dev & Pr(>Chi)\\\\\n  & <int> & <dbl> & <int> & <dbl> & <dbl>\\\\\n\\hline\n\tNULL & NA &        NA & 729 & 987.9946 &           NA\\\\\n\teducacion &  1 &  0.783045 & 728 & 987.2115 & 3.762115e-01\\\\\n\tsexo &  1 &  9.961169 & 727 & 977.2504 & 1.598765e-03\\\\\n\tedad &  1 & 96.005010 & 726 & 881.2454 & 1.145931e-22\\\\\n\\end{tabular}\n",
            "text/plain": [
              "          Df Deviance  Resid. Df Resid. Dev Pr(>Chi)    \n",
              "NULL      NA        NA 729       987.9946             NA\n",
              "educacion  1  0.783045 728       987.2115   3.762115e-01\n",
              "sexo       1  9.961169 727       977.2504   1.598765e-03\n",
              "edad       1 96.005010 726       881.2454   1.145931e-22"
            ]
          },
          "metadata": {}
        }
      ],
      "source": [
        "anova(rlogistica2,test=\"Chisq\")"
      ]
    },
    {
      "cell_type": "markdown",
      "metadata": {
        "id": "KSjGy-enyXE9"
      },
      "source": [
        "Respecto a la significancia global, de acuerdo a los datos suministrados en la columna Pr(>Chi), ya que los valores  en las filas educación, sexo y edad son menores que alfa, entonces se  rechaza la hipotesis nula. Por lo cual se puede afirmar que el modelo esta correctamente especificado."
      ]
    },
    {
      "cell_type": "code",
      "source": [
        "residuos=rstandard(rlogistica2)\n",
        "summary(residuos)"
      ],
      "metadata": {
        "colab": {
          "base_uri": "https://localhost:8080/",
          "height": 54
        },
        "id": "5D1aOAJupGqK",
        "outputId": "109a6dba-4826-4e43-b73f-42a8ed618c40"
      },
      "execution_count": null,
      "outputs": [
        {
          "output_type": "display_data",
          "data": {
            "text/plain": [
              "    Min.  1st Qu.   Median     Mean  3rd Qu.     Max. \n",
              "-2.17171 -0.90808 -0.65753 -0.05477  1.09965  2.05887 "
            ]
          },
          "metadata": {}
        }
      ]
    },
    {
      "cell_type": "code",
      "source": [
        "shapiro.test(residuos)"
      ],
      "metadata": {
        "colab": {
          "base_uri": "https://localhost:8080/",
          "height": 109
        },
        "id": "5ArCge1SpdDr",
        "outputId": "fb4dc217-5e24-4229-bd57-1239a37530f7"
      },
      "execution_count": null,
      "outputs": [
        {
          "output_type": "display_data",
          "data": {
            "text/plain": [
              "\n",
              "\tShapiro-Wilk normality test\n",
              "\n",
              "data:  residuos\n",
              "W = 0.85829, p-value < 2.2e-16\n"
            ]
          },
          "metadata": {}
        }
      ]
    },
    {
      "cell_type": "markdown",
      "source": [
        "Respecto al supuesto de normalidad residual, p-valor es menor a alfa por lo que no existe normalidad residual."
      ],
      "metadata": {
        "id": "FbbPveRepoXi"
      }
    },
    {
      "cell_type": "code",
      "source": [
        "vif(rlogistica2)"
      ],
      "metadata": {
        "colab": {
          "base_uri": "https://localhost:8080/",
          "height": 34
        },
        "id": "x-7JM1ccqRcw",
        "outputId": "2c66b382-ae84-4a47-dbf2-cbf6ec83d11a"
      },
      "execution_count": null,
      "outputs": [
        {
          "output_type": "display_data",
          "data": {
            "text/html": [
              "<style>\n",
              ".dl-inline {width: auto; margin:0; padding: 0}\n",
              ".dl-inline>dt, .dl-inline>dd {float: none; width: auto; display: inline-block}\n",
              ".dl-inline>dt::after {content: \":\\0020\"; padding-right: .5ex}\n",
              ".dl-inline>dt:not(:first-of-type) {padding-left: .5ex}\n",
              "</style><dl class=dl-inline><dt>educacion</dt><dd>1.06325902428806</dd><dt>sexo</dt><dd>1.01454023489594</dd><dt>edad</dt><dd>1.07822245133652</dd></dl>\n"
            ],
            "text/markdown": "educacion\n:   1.06325902428806sexo\n:   1.01454023489594edad\n:   1.07822245133652\n\n",
            "text/latex": "\\begin{description*}\n\\item[educacion] 1.06325902428806\n\\item[sexo] 1.01454023489594\n\\item[edad] 1.07822245133652\n\\end{description*}\n",
            "text/plain": [
              "educacion      sexo      edad \n",
              " 1.063259  1.014540  1.078222 "
            ]
          },
          "metadata": {}
        }
      ]
    },
    {
      "cell_type": "markdown",
      "source": [
        "Respecto al supuesto de no multicolinealidad, el factor de inflación de varianza es menor a 5 para todas las variables. Esto indica que hay independencia entre las variables educación, sexo y edad."
      ],
      "metadata": {
        "id": "FSQ_lp3FqqoK"
      }
    },
    {
      "cell_type": "code",
      "source": [
        "lmtest::bptest(rlogistica2)"
      ],
      "metadata": {
        "colab": {
          "base_uri": "https://localhost:8080/",
          "height": 109
        },
        "id": "kcTzgPZtrH3K",
        "outputId": "e906070d-535c-489d-a41d-f9060f494108"
      },
      "execution_count": null,
      "outputs": [
        {
          "output_type": "display_data",
          "data": {
            "text/plain": [
              "\n",
              "\tstudentized Breusch-Pagan test\n",
              "\n",
              "data:  rlogistica2\n",
              "BP = 14.255, df = 3, p-value = 0.002578\n"
            ]
          },
          "metadata": {}
        }
      ]
    },
    {
      "cell_type": "markdown",
      "source": [
        "En el supuesto de homocedasticidad p-valor es menor que alfa por lo que se rechaza la hipótesis nula, es decir, los betas pueden ser sesgados y no confiables."
      ],
      "metadata": {
        "id": "c_wiU0R5rXfu"
      }
    },
    {
      "cell_type": "markdown",
      "metadata": {
        "id": "v1mQ2PrEE21B"
      },
      "source": [
        "# Regresión lineal consumo cerveza"
      ]
    },
    {
      "cell_type": "code",
      "execution_count": null,
      "metadata": {
        "colab": {
          "base_uri": "https://localhost:8080/",
          "height": 286
        },
        "id": "afRJe5hYFHmK",
        "outputId": "e9832dd1-dd96-4be6-9273-24be567b9c8c"
      },
      "outputs": [
        {
          "output_type": "display_data",
          "data": {
            "text/html": [
              "<table class=\"dataframe\">\n",
              "<caption>A data.frame: 6 × 9</caption>\n",
              "<thead>\n",
              "\t<tr><th></th><th scope=col>id</th><th scope=col>educacion</th><th scope=col>sexo</th><th scope=col>edad</th><th scope=col>cervezas</th><th scope=col>hijos</th><th scope=col>cigarrillo</th><th scope=col>Pr_C</th><th scope=col>pronostico</th></tr>\n",
              "\t<tr><th></th><th scope=col>&lt;int&gt;</th><th scope=col>&lt;int&gt;</th><th scope=col>&lt;fct&gt;</th><th scope=col>&lt;int&gt;</th><th scope=col>&lt;int&gt;</th><th scope=col>&lt;int&gt;</th><th scope=col>&lt;int&gt;</th><th scope=col>&lt;dbl&gt;</th><th scope=col>&lt;dbl&gt;</th></tr>\n",
              "</thead>\n",
              "<tbody>\n",
              "\t<tr><th scope=row>1</th><td>1003</td><td>16</td><td>Masculino</td><td>41</td><td>1</td><td>0</td><td>1</td><td>0.5635405</td><td>1</td></tr>\n",
              "\t<tr><th scope=row>2</th><td> 522</td><td> 9</td><td>Masculino</td><td>33</td><td>5</td><td>1</td><td>1</td><td>0.3035535</td><td>0</td></tr>\n",
              "\t<tr><th scope=row>3</th><td>1086</td><td>17</td><td>Masculino</td><td>51</td><td>3</td><td>4</td><td>0</td><td>0.7153622</td><td>1</td></tr>\n",
              "\t<tr><th scope=row>4</th><td> 659</td><td> 8</td><td>Masculino</td><td>46</td><td>6</td><td>2</td><td>0</td><td>0.4576518</td><td>0</td></tr>\n",
              "\t<tr><th scope=row>5</th><td> 771</td><td>12</td><td>Masculino</td><td>18</td><td>3</td><td>0</td><td>0</td><td>0.1934118</td><td>0</td></tr>\n",
              "\t<tr><th scope=row>6</th><td> 331</td><td>12</td><td>Femenino </td><td>57</td><td>4</td><td>3</td><td>1</td><td>0.5523646</td><td>1</td></tr>\n",
              "</tbody>\n",
              "</table>\n"
            ],
            "text/markdown": "\nA data.frame: 6 × 9\n\n| <!--/--> | id &lt;int&gt; | educacion &lt;int&gt; | sexo &lt;fct&gt; | edad &lt;int&gt; | cervezas &lt;int&gt; | hijos &lt;int&gt; | cigarrillo &lt;int&gt; | Pr_C &lt;dbl&gt; | pronostico &lt;dbl&gt; |\n|---|---|---|---|---|---|---|---|---|---|\n| 1 | 1003 | 16 | Masculino | 41 | 1 | 0 | 1 | 0.5635405 | 1 |\n| 2 |  522 |  9 | Masculino | 33 | 5 | 1 | 1 | 0.3035535 | 0 |\n| 3 | 1086 | 17 | Masculino | 51 | 3 | 4 | 0 | 0.7153622 | 1 |\n| 4 |  659 |  8 | Masculino | 46 | 6 | 2 | 0 | 0.4576518 | 0 |\n| 5 |  771 | 12 | Masculino | 18 | 3 | 0 | 0 | 0.1934118 | 0 |\n| 6 |  331 | 12 | Femenino  | 57 | 4 | 3 | 1 | 0.5523646 | 1 |\n\n",
            "text/latex": "A data.frame: 6 × 9\n\\begin{tabular}{r|lllllllll}\n  & id & educacion & sexo & edad & cervezas & hijos & cigarrillo & Pr\\_C & pronostico\\\\\n  & <int> & <int> & <fct> & <int> & <int> & <int> & <int> & <dbl> & <dbl>\\\\\n\\hline\n\t1 & 1003 & 16 & Masculino & 41 & 1 & 0 & 1 & 0.5635405 & 1\\\\\n\t2 &  522 &  9 & Masculino & 33 & 5 & 1 & 1 & 0.3035535 & 0\\\\\n\t3 & 1086 & 17 & Masculino & 51 & 3 & 4 & 0 & 0.7153622 & 1\\\\\n\t4 &  659 &  8 & Masculino & 46 & 6 & 2 & 0 & 0.4576518 & 0\\\\\n\t5 &  771 & 12 & Masculino & 18 & 3 & 0 & 0 & 0.1934118 & 0\\\\\n\t6 &  331 & 12 & Femenino  & 57 & 4 & 3 & 1 & 0.5523646 & 1\\\\\n\\end{tabular}\n",
            "text/plain": [
              "  id   educacion sexo      edad cervezas hijos cigarrillo Pr_C      pronostico\n",
              "1 1003 16        Masculino 41   1        0     1          0.5635405 1         \n",
              "2  522  9        Masculino 33   5        1     1          0.3035535 0         \n",
              "3 1086 17        Masculino 51   3        4     0          0.7153622 1         \n",
              "4  659  8        Masculino 46   6        2     0          0.4576518 0         \n",
              "5  771 12        Masculino 18   3        0     0          0.1934118 0         \n",
              "6  331 12        Femenino  57   4        3     1          0.5523646 1         "
            ]
          },
          "metadata": {}
        }
      ],
      "source": [
        "head(consumo)"
      ]
    },
    {
      "cell_type": "code",
      "execution_count": null,
      "metadata": {
        "colab": {
          "base_uri": "https://localhost:8080/",
          "height": 441
        },
        "id": "6_XW9TKFFOPU",
        "outputId": "1e5d315a-0587-4ac9-8f1b-76e7617b650b"
      },
      "outputs": [
        {
          "output_type": "display_data",
          "data": {
            "text/plain": [
              "\n",
              "Call:\n",
              "lm(formula = cervezas ~ educacion + sexo + edad + hijos + cigarrillo, \n",
              "    data = consumo)\n",
              "\n",
              "Residuals:\n",
              "    Min      1Q  Median      3Q     Max \n",
              "-3.0917 -1.1287 -0.1657  0.9492  8.8099 \n",
              "\n",
              "Coefficients:\n",
              "               Estimate Std. Error t value Pr(>|t|)    \n",
              "(Intercept)    5.589425   0.403999  13.835   <2e-16 ***\n",
              "educacion     -0.206684   0.023988  -8.616   <2e-16 ***\n",
              "sexoMasculino -0.137286   0.126542  -1.085    0.278    \n",
              "edad          -0.004672   0.005232  -0.893    0.372    \n",
              "hijos          0.014195   0.053956   0.263    0.793    \n",
              "cigarrillo     0.108253   0.133795   0.809    0.419    \n",
              "---\n",
              "Signif. codes:  0 ‘***’ 0.001 ‘**’ 0.01 ‘*’ 0.05 ‘.’ 0.1 ‘ ’ 1\n",
              "\n",
              "Residual standard error: 1.648 on 724 degrees of freedom\n",
              "Multiple R-squared:  0.1011,\tAdjusted R-squared:  0.09491 \n",
              "F-statistic: 16.29 on 5 and 724 DF,  p-value: 3.026e-15\n"
            ]
          },
          "metadata": {}
        }
      ],
      "source": [
        "rlineal=lm(cervezas~educacion+sexo+edad+hijos+cigarrillo,data=consumo)\n",
        "summary(rlineal)"
      ]
    },
    {
      "cell_type": "markdown",
      "metadata": {
        "id": "Y42TRA2oGXdz"
      },
      "source": [
        "Revisando la bondad de ajuste del modelo lineal para el consumo de cervezas tenemos que el porcentaje de consumo de cerveza que es explicado por Xi es del 10.11%, entonces no se cumple con el porcentaje admisible para el modelo.\n",
        "\n",
        "En el diagnóstico de significancia individual tenemos que de acuerdo a la prueba t, la variable que aporta al modelo es educación ya que su  Pr(>|t|) es menor que alfa. Las otras variables tienen un  Pr(>|t|) mayor que alfa, por lo que no rechazan la hipótesis nula, es decir, no aportan al modelo.\n",
        "\n",
        "En el diagnóstico de significancia global en la prueba t p-valor es menor que alfa, por lo que rechaza la hipotesis nula, es decir el modelo estaria correctamente especificado\n",
        "\n",
        "De acuerdo a lo anterior intentando mejorar el modelo aplicaremos una segunda regresión en la que empleemos unicamente la variable que aporta al modelo, es decir, educación.\n"
      ]
    },
    {
      "cell_type": "code",
      "source": [
        "rlineal2=lm(cervezas~educacion,data=consumo)\n",
        "summary(rlineal2)"
      ],
      "metadata": {
        "colab": {
          "base_uri": "https://localhost:8080/",
          "height": 349
        },
        "id": "fTlPQo4FV8Cy",
        "outputId": "fcc04e27-0362-4fbd-9ad3-924bbe467652"
      },
      "execution_count": null,
      "outputs": [
        {
          "output_type": "display_data",
          "data": {
            "text/plain": [
              "\n",
              "Call:\n",
              "lm(formula = cervezas ~ educacion, data = consumo)\n",
              "\n",
              "Residuals:\n",
              "    Min      1Q  Median      3Q     Max \n",
              "-2.9419 -1.1108 -0.1281  0.8892  8.8719 \n",
              "\n",
              "Coefficients:\n",
              "            Estimate Std. Error t value Pr(>|t|)    \n",
              "(Intercept)  5.36607    0.31060  17.277   <2e-16 ***\n",
              "educacion   -0.20345    0.02282  -8.916   <2e-16 ***\n",
              "---\n",
              "Signif. codes:  0 ‘***’ 0.001 ‘**’ 0.01 ‘*’ 0.05 ‘.’ 0.1 ‘ ’ 1\n",
              "\n",
              "Residual standard error: 1.646 on 728 degrees of freedom\n",
              "Multiple R-squared:  0.09844,\tAdjusted R-squared:  0.0972 \n",
              "F-statistic: 79.49 on 1 and 728 DF,  p-value: < 2.2e-16\n"
            ]
          },
          "metadata": {}
        }
      ]
    },
    {
      "cell_type": "markdown",
      "source": [
        "Revisando la bondad de ajuste del modelo lineal para el consumo de cervezas tenemos que el porcentaje de consumo de cerveza que es explicado por Xi es del 9.84%, por lo cual el porcentaje restante sería explicado por el error. Con base en lo anterior, se evidencia que el modelo no tiene aún un porcentaje admisible de ajuste ya que debe ser superior al 50%\n",
        "\n",
        "En el diagnóstico de significancia individual tenemos que de acuerdo a la prueba t, la variable que aporta al modelo es educación ya que su  Pr(>|t|) es menor que alfa. Las otras variables tienen un  Pr(>|t|) mayor que alfa, por lo que no rechazan la hipótesis nula, es decir, no aportan al modelo.\n",
        "\n",
        "En el diagnóstico de significancia global en la prueba t p-valor es menor que alfa, por lo que rechaza la hipotesis nula, es decir el modelo estaria correctamente especificado"
      ],
      "metadata": {
        "id": "6akC-arQXSmM"
      }
    },
    {
      "cell_type": "code",
      "execution_count": null,
      "metadata": {
        "colab": {
          "base_uri": "https://localhost:8080/",
          "height": 109
        },
        "id": "nCyilygMQf_H",
        "outputId": "a0a7ac43-6a85-4ee5-ffc6-5b0072b3ce99"
      },
      "outputs": [
        {
          "output_type": "display_data",
          "data": {
            "text/plain": [
              "\n",
              "\tShapiro-Wilk normality test\n",
              "\n",
              "data:  residuos\n",
              "W = 0.92647, p-value < 2.2e-16\n"
            ]
          },
          "metadata": {}
        }
      ],
      "source": [
        "residuos=rstandard(rlineal2)\n",
        "shapiro.test(residuos)"
      ]
    },
    {
      "cell_type": "markdown",
      "metadata": {
        "id": "-0ZaITALR54D"
      },
      "source": [
        "En el supuesto  de normalidad residual el resultado nos arroja un p-valor menor que alfa,entoncesse rechaza la hipotesis nula, por lo cual no hay normalidad residual, es decir hay valores atípicos."
      ]
    },
    {
      "cell_type": "code",
      "execution_count": null,
      "metadata": {
        "colab": {
          "base_uri": "https://localhost:8080/",
          "height": 209
        },
        "id": "hdFNIrL5M27G",
        "outputId": "303102e7-9da9-4da4-e827-6f31bba0551d"
      },
      "outputs": [
        {
          "output_type": "error",
          "ename": "ERROR",
          "evalue": "ignored",
          "traceback": [
            "Error in vif.default(rlineal2): model contains fewer than 2 terms\nTraceback:\n",
            "1. vif(rlineal2)",
            "2. vif.lm(rlineal2)",
            "3. NextMethod()",
            "4. vif.default(rlineal2)",
            "5. stop(\"model contains fewer than 2 terms\")"
          ]
        }
      ],
      "source": [
        "vif(rlineal2)"
      ]
    },
    {
      "cell_type": "markdown",
      "metadata": {
        "id": "1n3uGIFLPYb2"
      },
      "source": [
        "El supuesto de No multicolinealidad no aplica en este caso ya que solo quedaría la variable educación."
      ]
    },
    {
      "cell_type": "code",
      "execution_count": null,
      "metadata": {
        "id": "PUy27CO_PWUW"
      },
      "outputs": [],
      "source": [
        "lmtest::bptest(rlineal2)\n"
      ]
    },
    {
      "cell_type": "markdown",
      "metadata": {
        "id": "0ApQkqlvTo6T"
      },
      "source": [
        "En el supuesto de homocedasticidad de acuerdo a la prueba de Breusch Pagan, el p-valor es menor que alfa, entonces se rechazaría la hipotesis nula, por lo cual, habria heterocedasticidad, es decir, los valores de beta no serían confiables"
      ]
    },
    {
      "cell_type": "markdown",
      "metadata": {
        "id": "nGP3LEK_zGkm"
      },
      "source": [
        "# Preguntas"
      ]
    },
    {
      "cell_type": "markdown",
      "metadata": {
        "id": "OzHyXddtzNt6"
      },
      "source": [
        "1.\t¿Cuál es la variable que tiene mayor incidencia en el consumo de cigarrillo? ¿Cómo varía la probabilidad de consumir cigarrillo ante la presencia de los factores más determinantes?\n",
        "\n",
        "Con base en la prueba Wald de significancia individual la variable que más aporta en el modelo es la edad, ya que su p-valor es el menor de todos lo valores con respecto a las otras variables pertenecieentes al modelo. Por esto la edad influiría en el consumo de cigarrillo.\n",
        "\n",
        "Rspecto a la pregunta de como varia la probabilidad ante la presencia de los factores mas determinantes: la variable sexomasculino indica que dado la situación que el sujeto en cuestión sea hombre su probabilidad de consumir cigarrillo aumenta el 84.28% , respecto a la variable edad  cada año adicional del sujeto aumenta la probabilidad de consumir el 5.93% y por último, un año adicional de educación aumenta la probabilidad de consumir cigarrillo el 9.33%.\n"
      ]
    },
    {
      "cell_type": "markdown",
      "metadata": {
        "id": "DFXpwv55642B"
      },
      "source": [
        "2.\t¿Es confiable pronosticar la probabilidad de consumo de cigarrillo a partir de la información recolectada? ¿Qué situaciones correctivas deberían aplicarse para mejorar estos pronósticos?\n",
        "\n",
        "Con base en los diagnóstico realizados (matriz de confusión, pseudo R^{2}, prueba de wald y chi cuadrado) se determino que el  modelo es confiable para pronósticar, ya que por una parte su tasa de acierto es del 69.86% superando el requerido del 50%, de acuerdo a la prueba de Wald se dejaron a las variables que aportaron al modelo y en el diagnóstico de significancia individual con chisq se determino que el modelo esta corectamente especificado. Sin embargo, se podrían aplica algunas correcciones del lado de los supuestos para mejorar los pronósticos como por ejemplo el uso de minimos cuadrados perfectos para igualar la dispersión de los residuos.\n"
      ]
    },
    {
      "cell_type": "markdown",
      "metadata": {
        "id": "MIOQ3mLV9xrW"
      },
      "source": [
        "3.\t¿Podría postular otros factores que potencialmente ayudaran a explicar el consumo de cigarrillo?\n",
        "\n",
        "Se podrian tener en cuenta factores  como la exposición a publicidad entorno al consumo de cigarrillo, ya que la estrategia de marketing de una emrpeesa puede influir en la elección y compra de un producto en este caso del cigarrillo; estar en un entorno con personas fumadoras ya que la persona puede sentir el impulso a fumar como una forma de conocer e interactuar con otros, o una manera de conseguir la aceptación de grupo; finalmente, el estado de animo de las personas ya que personas en situaciones depresivas pueden ser influenciados a fumar. Posterior a tener una conjunto de datos recolectados se realizaría un diagnóstico para determinar su relevancia en el pronóstico."
      ]
    },
    {
      "cell_type": "markdown",
      "source": [
        "4.\t¿Cuáles son los factores que inciden en la explicación del consumo de cerveza por parte de la población encuestada? ¿En qué porcentaje estos factores explican la variabilidad del consumo de cerveza?\n",
        "\n",
        "De acuerdo al modelo  de regresión lineal y a partir de la prueba t en la significancia individual, el factor que incide en el consumo de cerveza es el nivel de educación.\n",
        "\n",
        "Xi en este caso los años de educación de acuerdo a la prueba R^{2} explica el 9.84% de la variabilidad de y es decir, el  consumo de cerveza. Esto nos dice que al modelo le hacen falta factores que puedan explicar en una mejor medida el consumo de cerveza, ya que para este caso el error restante que terinaria explicando a la variable dependiente seria 1-R^{2} que corresponde aproximadamente con un 90.16%."
      ],
      "metadata": {
        "id": "fRfQmzY0ljRu"
      }
    },
    {
      "cell_type": "markdown",
      "source": [
        "5.\t¿Es confiable realizar pronósticos o análisis estructurales con los factores obtenidos en el modelo del punto anterior? Explique detalladamente su respuesta\n",
        "\n",
        "No es confiable realizar pronósticos con el factor educación ya que de acuerdo al diagnóstico de bondad de ajuste, en la prueba se determinó que la variable aporta únicamente un 9.84% a la explicación del consumo de cigarrillo, quedando fuera del porcentaje admisible (que debe ser mayor al 50%). Además que el porcentaje restante quedaría atribuido al término de error del modelo. En este sentido, se puede añadir que al intentar comprobar el supuesto de homocedasticidad con la prueba Breush Pagan, se rechazó hipótesis nula de homocedasticidad, por lo que el valor de beta sería sesgado y no confiable."
      ],
      "metadata": {
        "id": "tmM1rNvSlk9A"
      }
    },
    {
      "cell_type": "markdown",
      "source": [
        "6.\t¿Qué oportunidades de mejora y/o correctivos deben aplicarse para que se pueda explicar el consumo de cerveza con mayor precisión y confiabilidad?\n",
        "\n",
        "Se deben utlizar factores que aporten significativamente al modelo, de manera que se logre una bondad de ajuste adecuada (R^{2} mayor al 50%). Para asegurar pronósticos ajustados se deberian eliminar lo valores atípicos en la variable de consumo de cerveza, de esta forma, a través de a preuba Shapiro se podría obtener un p-valor que siendo mayor que alfa arrojaría normalidad residual y por consiguiente, habrían resultados mas precisos con el modelo. Finalmente, para garantizar que los betas del modelo sean insesgados y confiables, se necesita que independiente de los valores de Xi, los valores residuales sean concentrados aplicando estimados de minimos cuadrados generalizados.\n",
        "Con los elmentos enunciados en el parrafo anterior se podría mejorar el modelo permitiendo realizar un pronóstico adecuado del consumo de cerveza."
      ],
      "metadata": {
        "id": "A894W2inlpuf"
      }
    }
  ],
  "metadata": {
    "colab": {
      "provenance": []
    },
    "kernelspec": {
      "display_name": "R",
      "name": "ir"
    },
    "language_info": {
      "name": "R"
    }
  },
  "nbformat": 4,
  "nbformat_minor": 0
}